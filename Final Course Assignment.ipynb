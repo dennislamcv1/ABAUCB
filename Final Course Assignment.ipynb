{
 "cells": [
  {
   "cell_type": "markdown",
   "metadata": {},
   "source": [
    "### Final Course Assignment Part 1"
   ]
  },
  {
   "cell_type": "markdown",
   "metadata": {},
   "source": [
    "Flight delays are disruptive to travel plans and cause significant direct and indirect costs to passengers and airline companies. United Airlines approached you with a request to help them understand the causes and predict the occurrences of flight delays in order to in order to help them better cope with flight delays. Airlines and transportation authorities have been paying close attention to flight delays over the years and collected detailed information of flight delays of all commercial flights. The file contains information on nonstop United Airlines flights during December 2015. This dataset was obtained from http://www.transtats.bts.gov and went through some preliminary preprocessing for this projects. The dataset contains 11 columns listed below."
   ]
  },
  {
   "cell_type": "markdown",
   "metadata": {},
   "source": [
    "Part 1. Data cleanup - Use the following delay -UA-messy.xlsx data file for this part of the assignment."
   ]
  },
  {
   "cell_type": "markdown",
   "metadata": {},
   "source": [
    "### Import Libraries"
   ]
  },
  {
   "cell_type": "code",
   "execution_count": 1,
   "metadata": {},
   "outputs": [],
   "source": [
    "import numpy as np\n",
    "import pandas as pd\n",
    "import matplotlib.pyplot as plt\n",
    "import seaborn as sns\n",
    "import sklearn\n",
    "\n",
    "import xgboost as xgb\n",
    "from xgboost import XGBClassifier, XGBRegressor\n",
    "from xgboost import to_graphviz, plot_importance\n",
    "\n",
    "%matplotlib inline\n",
    "sns.set_style('dark')\n",
    "sns.set(font_scale=1.2)\n",
    "\n",
    "from sklearn.model_selection import cross_val_score, train_test_split, GridSearchCV, RandomizedSearchCV\n",
    "from sklearn.preprocessing import LabelEncoder, StandardScaler, MinMaxScaler, OneHotEncoder\n",
    "from sklearn.metrics import confusion_matrix, classification_report, mean_absolute_error, mean_squared_error,r2_score\n",
    "from sklearn.metrics import plot_confusion_matrix, plot_precision_recall_curve, plot_roc_curve, accuracy_score\n",
    "from sklearn.metrics import auc, f1_score, precision_score, recall_score, roc_auc_score\n",
    "\n",
    "\n",
    "#import feature_engine.missing_data_imputers as mdi\n",
    "#from feature_engine.outlier_removers import Winsorizer\n",
    "\n",
    "#from tpot import TPOTClassifier, TPOTRegressor\n",
    "#from imblearn.under_sampling import RandomUnderSampler\n",
    "#from imblearn.over_sampling import RandomOverSampler\n",
    "\n",
    "import warnings\n",
    "warnings.filterwarnings('ignore')\n",
    "\n",
    "import pickle\n",
    "from pickle import dump, load\n",
    "\n",
    "np.random.seed(0)\n",
    "\n",
    "#from pycaret.classification import *\n",
    "#from pycaret.clustering import *\n",
    "#from pycaret.regression import *\n",
    "\n",
    "pd.set_option('display.max_columns',100)\n",
    "#pd.set_option('display.max_rows',100)\n",
    "pd.set_option('display.width', 1000)"
   ]
  },
  {
   "cell_type": "markdown",
   "metadata": {},
   "source": [
    "### Data Exploration and Analysis"
   ]
  },
  {
   "cell_type": "code",
   "execution_count": 2,
   "metadata": {},
   "outputs": [],
   "source": [
    "df = pd.read_csv(\"delay-UA-messy.csv\")"
   ]
  },
  {
   "cell_type": "code",
   "execution_count": 3,
   "metadata": {},
   "outputs": [
    {
     "data": {
      "text/html": [
       "<div>\n",
       "<style scoped>\n",
       "    .dataframe tbody tr th:only-of-type {\n",
       "        vertical-align: middle;\n",
       "    }\n",
       "\n",
       "    .dataframe tbody tr th {\n",
       "        vertical-align: top;\n",
       "    }\n",
       "\n",
       "    .dataframe thead th {\n",
       "        text-align: right;\n",
       "    }\n",
       "</style>\n",
       "<table border=\"1\" class=\"dataframe\">\n",
       "  <thead>\n",
       "    <tr style=\"text-align: right;\">\n",
       "      <th></th>\n",
       "      <th>DAY_OF_MONTH</th>\n",
       "      <th>DAY_OF_WEEK</th>\n",
       "      <th>ORIGIN</th>\n",
       "      <th>DEST</th>\n",
       "      <th>CRS_DEP_TIME</th>\n",
       "      <th>CRS_ARR_TIME</th>\n",
       "      <th>ARR_DELAY</th>\n",
       "      <th>ARR_DEL15</th>\n",
       "      <th>CRS_ELAPSED_TIME</th>\n",
       "      <th>ACTUAL_ELAPSED_TIME</th>\n",
       "      <th>DISTANCE</th>\n",
       "    </tr>\n",
       "  </thead>\n",
       "  <tbody>\n",
       "    <tr>\n",
       "      <th>0</th>\n",
       "      <td>31</td>\n",
       "      <td>4</td>\n",
       "      <td>SFO</td>\n",
       "      <td>DEN</td>\n",
       "      <td>1418</td>\n",
       "      <td>1758</td>\n",
       "      <td>-31</td>\n",
       "      <td>0</td>\n",
       "      <td>160</td>\n",
       "      <td>137</td>\n",
       "      <td>967</td>\n",
       "    </tr>\n",
       "    <tr>\n",
       "      <th>1</th>\n",
       "      <td>31</td>\n",
       "      <td>4</td>\n",
       "      <td>DEN</td>\n",
       "      <td>IAH</td>\n",
       "      <td>1601</td>\n",
       "      <td>1926</td>\n",
       "      <td>9</td>\n",
       "      <td>0</td>\n",
       "      <td>145</td>\n",
       "      <td>134</td>\n",
       "      <td>862</td>\n",
       "    </tr>\n",
       "    <tr>\n",
       "      <th>2</th>\n",
       "      <td>31</td>\n",
       "      <td>4</td>\n",
       "      <td>ORD</td>\n",
       "      <td>DEN</td>\n",
       "      <td>1600</td>\n",
       "      <td>1748</td>\n",
       "      <td>36</td>\n",
       "      <td>1</td>\n",
       "      <td>168</td>\n",
       "      <td>155</td>\n",
       "      <td>888</td>\n",
       "    </tr>\n",
       "    <tr>\n",
       "      <th>3</th>\n",
       "      <td>31</td>\n",
       "      <td>4</td>\n",
       "      <td>ORD</td>\n",
       "      <td>SFO</td>\n",
       "      <td>1241</td>\n",
       "      <td>1531</td>\n",
       "      <td>7</td>\n",
       "      <td>0</td>\n",
       "      <td>290</td>\n",
       "      <td>291</td>\n",
       "      <td>1846</td>\n",
       "    </tr>\n",
       "    <tr>\n",
       "      <th>4</th>\n",
       "      <td>31</td>\n",
       "      <td>4</td>\n",
       "      <td>IAH</td>\n",
       "      <td>SFO</td>\n",
       "      <td>1852</td>\n",
       "      <td>2114</td>\n",
       "      <td>-6</td>\n",
       "      <td>0</td>\n",
       "      <td>262</td>\n",
       "      <td>250</td>\n",
       "      <td>1635</td>\n",
       "    </tr>\n",
       "    <tr>\n",
       "      <th>...</th>\n",
       "      <td>...</td>\n",
       "      <td>...</td>\n",
       "      <td>...</td>\n",
       "      <td>...</td>\n",
       "      <td>...</td>\n",
       "      <td>...</td>\n",
       "      <td>...</td>\n",
       "      <td>...</td>\n",
       "      <td>...</td>\n",
       "      <td>...</td>\n",
       "      <td>...</td>\n",
       "    </tr>\n",
       "    <tr>\n",
       "      <th>3892</th>\n",
       "      <td>3</td>\n",
       "      <td>4</td>\n",
       "      <td>SFO</td>\n",
       "      <td>IAH</td>\n",
       "      <td>555</td>\n",
       "      <td>1149</td>\n",
       "      <td>-22</td>\n",
       "      <td>0</td>\n",
       "      <td>234</td>\n",
       "      <td>217</td>\n",
       "      <td>1635</td>\n",
       "    </tr>\n",
       "    <tr>\n",
       "      <th>3893</th>\n",
       "      <td>3</td>\n",
       "      <td>4</td>\n",
       "      <td>SFO</td>\n",
       "      <td>IAH</td>\n",
       "      <td>1251</td>\n",
       "      <td>1833</td>\n",
       "      <td>36</td>\n",
       "      <td>1</td>\n",
       "      <td>222</td>\n",
       "      <td>219</td>\n",
       "      <td>1635</td>\n",
       "    </tr>\n",
       "    <tr>\n",
       "      <th>3894</th>\n",
       "      <td>3</td>\n",
       "      <td>4</td>\n",
       "      <td>IAH</td>\n",
       "      <td>SFO</td>\n",
       "      <td>1602</td>\n",
       "      <td>1824</td>\n",
       "      <td>121</td>\n",
       "      <td>1</td>\n",
       "      <td>262</td>\n",
       "      <td>262</td>\n",
       "      <td>1635</td>\n",
       "    </tr>\n",
       "    <tr>\n",
       "      <th>3895</th>\n",
       "      <td>3</td>\n",
       "      <td>4</td>\n",
       "      <td>SFO</td>\n",
       "      <td>ORD</td>\n",
       "      <td>1907</td>\n",
       "      <td>114</td>\n",
       "      <td>29</td>\n",
       "      <td>1</td>\n",
       "      <td>247</td>\n",
       "      <td>244</td>\n",
       "      <td>1846</td>\n",
       "    </tr>\n",
       "    <tr>\n",
       "      <th>3896</th>\n",
       "      <td>3</td>\n",
       "      <td>4</td>\n",
       "      <td>SFO</td>\n",
       "      <td>DEN</td>\n",
       "      <td>1653</td>\n",
       "      <td>2027</td>\n",
       "      <td>8</td>\n",
       "      <td>0</td>\n",
       "      <td>154</td>\n",
       "      <td>140</td>\n",
       "      <td>967</td>\n",
       "    </tr>\n",
       "  </tbody>\n",
       "</table>\n",
       "<p>3897 rows × 11 columns</p>\n",
       "</div>"
      ],
      "text/plain": [
       "      DAY_OF_MONTH  DAY_OF_WEEK ORIGIN DEST  CRS_DEP_TIME  CRS_ARR_TIME  ARR_DELAY  ARR_DEL15  CRS_ELAPSED_TIME  ACTUAL_ELAPSED_TIME  DISTANCE\n",
       "0               31            4    SFO  DEN          1418          1758        -31          0               160                  137       967\n",
       "1               31            4    DEN  IAH          1601          1926          9          0               145                  134       862\n",
       "2               31            4    ORD  DEN          1600          1748         36          1               168                  155       888\n",
       "3               31            4    ORD  SFO          1241          1531          7          0               290                  291      1846\n",
       "4               31            4    IAH  SFO          1852          2114         -6          0               262                  250      1635\n",
       "...            ...          ...    ...  ...           ...           ...        ...        ...               ...                  ...       ...\n",
       "3892             3            4    SFO  IAH           555          1149        -22          0               234                  217      1635\n",
       "3893             3            4    SFO  IAH          1251          1833         36          1               222                  219      1635\n",
       "3894             3            4    IAH  SFO          1602          1824        121          1               262                  262      1635\n",
       "3895             3            4    SFO  ORD          1907           114         29          1               247                  244      1846\n",
       "3896             3            4    SFO  DEN          1653          2027          8          0               154                  140       967\n",
       "\n",
       "[3897 rows x 11 columns]"
      ]
     },
     "execution_count": 3,
     "metadata": {},
     "output_type": "execute_result"
    }
   ],
   "source": [
    "df"
   ]
  },
  {
   "cell_type": "code",
   "execution_count": 4,
   "metadata": {},
   "outputs": [
    {
     "name": "stdout",
     "output_type": "stream",
     "text": [
      "<class 'pandas.core.frame.DataFrame'>\n",
      "RangeIndex: 3897 entries, 0 to 3896\n",
      "Data columns (total 11 columns):\n",
      " #   Column               Non-Null Count  Dtype \n",
      "---  ------               --------------  ----- \n",
      " 0   DAY_OF_MONTH         3897 non-null   int64 \n",
      " 1   DAY_OF_WEEK          3897 non-null   int64 \n",
      " 2   ORIGIN               3897 non-null   object\n",
      " 3   DEST                 3897 non-null   object\n",
      " 4   CRS_DEP_TIME         3897 non-null   int64 \n",
      " 5   CRS_ARR_TIME         3897 non-null   int64 \n",
      " 6   ARR_DELAY            3897 non-null   int64 \n",
      " 7   ARR_DEL15            3897 non-null   int64 \n",
      " 8   CRS_ELAPSED_TIME     3897 non-null   int64 \n",
      " 9   ACTUAL_ELAPSED_TIME  3897 non-null   int64 \n",
      " 10  DISTANCE             3897 non-null   int64 \n",
      "dtypes: int64(9), object(2)\n",
      "memory usage: 335.0+ KB\n"
     ]
    }
   ],
   "source": [
    "df.info()"
   ]
  },
  {
   "cell_type": "code",
   "execution_count": 5,
   "metadata": {},
   "outputs": [
    {
     "data": {
      "text/html": [
       "<div>\n",
       "<style scoped>\n",
       "    .dataframe tbody tr th:only-of-type {\n",
       "        vertical-align: middle;\n",
       "    }\n",
       "\n",
       "    .dataframe tbody tr th {\n",
       "        vertical-align: top;\n",
       "    }\n",
       "\n",
       "    .dataframe thead th {\n",
       "        text-align: right;\n",
       "    }\n",
       "</style>\n",
       "<table border=\"1\" class=\"dataframe\">\n",
       "  <thead>\n",
       "    <tr style=\"text-align: right;\">\n",
       "      <th></th>\n",
       "      <th>DAY_OF_MONTH</th>\n",
       "      <th>DAY_OF_WEEK</th>\n",
       "      <th>ORIGIN</th>\n",
       "      <th>DEST</th>\n",
       "      <th>CRS_DEP_TIME</th>\n",
       "      <th>CRS_ARR_TIME</th>\n",
       "      <th>ARR_DELAY</th>\n",
       "      <th>ARR_DEL15</th>\n",
       "      <th>CRS_ELAPSED_TIME</th>\n",
       "      <th>ACTUAL_ELAPSED_TIME</th>\n",
       "      <th>DISTANCE</th>\n",
       "    </tr>\n",
       "  </thead>\n",
       "  <tbody>\n",
       "    <tr>\n",
       "      <th>count</th>\n",
       "      <td>3897.000000</td>\n",
       "      <td>3897.000000</td>\n",
       "      <td>3897</td>\n",
       "      <td>3897</td>\n",
       "      <td>3897.000000</td>\n",
       "      <td>3897.000000</td>\n",
       "      <td>3897.000000</td>\n",
       "      <td>3897.000000</td>\n",
       "      <td>3897.000000</td>\n",
       "      <td>3897.000000</td>\n",
       "      <td>3897.000000</td>\n",
       "    </tr>\n",
       "    <tr>\n",
       "      <th>unique</th>\n",
       "      <td>NaN</td>\n",
       "      <td>NaN</td>\n",
       "      <td>4</td>\n",
       "      <td>4</td>\n",
       "      <td>NaN</td>\n",
       "      <td>NaN</td>\n",
       "      <td>NaN</td>\n",
       "      <td>NaN</td>\n",
       "      <td>NaN</td>\n",
       "      <td>NaN</td>\n",
       "      <td>NaN</td>\n",
       "    </tr>\n",
       "    <tr>\n",
       "      <th>top</th>\n",
       "      <td>NaN</td>\n",
       "      <td>NaN</td>\n",
       "      <td>ORD</td>\n",
       "      <td>ORD</td>\n",
       "      <td>NaN</td>\n",
       "      <td>NaN</td>\n",
       "      <td>NaN</td>\n",
       "      <td>NaN</td>\n",
       "      <td>NaN</td>\n",
       "      <td>NaN</td>\n",
       "      <td>NaN</td>\n",
       "    </tr>\n",
       "    <tr>\n",
       "      <th>freq</th>\n",
       "      <td>NaN</td>\n",
       "      <td>NaN</td>\n",
       "      <td>1039</td>\n",
       "      <td>1003</td>\n",
       "      <td>NaN</td>\n",
       "      <td>NaN</td>\n",
       "      <td>NaN</td>\n",
       "      <td>NaN</td>\n",
       "      <td>NaN</td>\n",
       "      <td>NaN</td>\n",
       "      <td>NaN</td>\n",
       "    </tr>\n",
       "    <tr>\n",
       "      <th>mean</th>\n",
       "      <td>16.316397</td>\n",
       "      <td>3.833718</td>\n",
       "      <td>NaN</td>\n",
       "      <td>NaN</td>\n",
       "      <td>1290.279189</td>\n",
       "      <td>1483.204003</td>\n",
       "      <td>16.257891</td>\n",
       "      <td>0.271747</td>\n",
       "      <td>195.208622</td>\n",
       "      <td>185.447524</td>\n",
       "      <td>1210.371311</td>\n",
       "    </tr>\n",
       "    <tr>\n",
       "      <th>std</th>\n",
       "      <td>8.902144</td>\n",
       "      <td>1.932262</td>\n",
       "      <td>NaN</td>\n",
       "      <td>NaN</td>\n",
       "      <td>495.277168</td>\n",
       "      <td>533.341270</td>\n",
       "      <td>67.256367</td>\n",
       "      <td>0.444918</td>\n",
       "      <td>51.891678</td>\n",
       "      <td>53.036976</td>\n",
       "      <td>412.897339</td>\n",
       "    </tr>\n",
       "    <tr>\n",
       "      <th>min</th>\n",
       "      <td>1.000000</td>\n",
       "      <td>1.000000</td>\n",
       "      <td>NaN</td>\n",
       "      <td>NaN</td>\n",
       "      <td>7.000000</td>\n",
       "      <td>1.000000</td>\n",
       "      <td>-56.000000</td>\n",
       "      <td>0.000000</td>\n",
       "      <td>132.000000</td>\n",
       "      <td>113.000000</td>\n",
       "      <td>862.000000</td>\n",
       "    </tr>\n",
       "    <tr>\n",
       "      <th>25%</th>\n",
       "      <td>9.000000</td>\n",
       "      <td>2.000000</td>\n",
       "      <td>NaN</td>\n",
       "      <td>NaN</td>\n",
       "      <td>905.000000</td>\n",
       "      <td>1142.000000</td>\n",
       "      <td>-15.000000</td>\n",
       "      <td>0.000000</td>\n",
       "      <td>155.000000</td>\n",
       "      <td>143.000000</td>\n",
       "      <td>888.000000</td>\n",
       "    </tr>\n",
       "    <tr>\n",
       "      <th>50%</th>\n",
       "      <td>17.000000</td>\n",
       "      <td>4.000000</td>\n",
       "      <td>NaN</td>\n",
       "      <td>NaN</td>\n",
       "      <td>1252.000000</td>\n",
       "      <td>1523.000000</td>\n",
       "      <td>-4.000000</td>\n",
       "      <td>0.000000</td>\n",
       "      <td>168.000000</td>\n",
       "      <td>161.000000</td>\n",
       "      <td>967.000000</td>\n",
       "    </tr>\n",
       "    <tr>\n",
       "      <th>75%</th>\n",
       "      <td>24.000000</td>\n",
       "      <td>5.000000</td>\n",
       "      <td>NaN</td>\n",
       "      <td>NaN</td>\n",
       "      <td>1702.000000</td>\n",
       "      <td>1912.000000</td>\n",
       "      <td>19.000000</td>\n",
       "      <td>1.000000</td>\n",
       "      <td>252.000000</td>\n",
       "      <td>234.000000</td>\n",
       "      <td>1635.000000</td>\n",
       "    </tr>\n",
       "    <tr>\n",
       "      <th>max</th>\n",
       "      <td>31.000000</td>\n",
       "      <td>7.000000</td>\n",
       "      <td>NaN</td>\n",
       "      <td>NaN</td>\n",
       "      <td>2359.000000</td>\n",
       "      <td>2359.000000</td>\n",
       "      <td>1069.000000</td>\n",
       "      <td>1.000000</td>\n",
       "      <td>308.000000</td>\n",
       "      <td>365.000000</td>\n",
       "      <td>1846.000000</td>\n",
       "    </tr>\n",
       "  </tbody>\n",
       "</table>\n",
       "</div>"
      ],
      "text/plain": [
       "        DAY_OF_MONTH  DAY_OF_WEEK ORIGIN  DEST  CRS_DEP_TIME  CRS_ARR_TIME    ARR_DELAY    ARR_DEL15  CRS_ELAPSED_TIME  ACTUAL_ELAPSED_TIME     DISTANCE\n",
       "count    3897.000000  3897.000000   3897  3897   3897.000000   3897.000000  3897.000000  3897.000000       3897.000000          3897.000000  3897.000000\n",
       "unique           NaN          NaN      4     4           NaN           NaN          NaN          NaN               NaN                  NaN          NaN\n",
       "top              NaN          NaN    ORD   ORD           NaN           NaN          NaN          NaN               NaN                  NaN          NaN\n",
       "freq             NaN          NaN   1039  1003           NaN           NaN          NaN          NaN               NaN                  NaN          NaN\n",
       "mean       16.316397     3.833718    NaN   NaN   1290.279189   1483.204003    16.257891     0.271747        195.208622           185.447524  1210.371311\n",
       "std         8.902144     1.932262    NaN   NaN    495.277168    533.341270    67.256367     0.444918         51.891678            53.036976   412.897339\n",
       "min         1.000000     1.000000    NaN   NaN      7.000000      1.000000   -56.000000     0.000000        132.000000           113.000000   862.000000\n",
       "25%         9.000000     2.000000    NaN   NaN    905.000000   1142.000000   -15.000000     0.000000        155.000000           143.000000   888.000000\n",
       "50%        17.000000     4.000000    NaN   NaN   1252.000000   1523.000000    -4.000000     0.000000        168.000000           161.000000   967.000000\n",
       "75%        24.000000     5.000000    NaN   NaN   1702.000000   1912.000000    19.000000     1.000000        252.000000           234.000000  1635.000000\n",
       "max        31.000000     7.000000    NaN   NaN   2359.000000   2359.000000  1069.000000     1.000000        308.000000           365.000000  1846.000000"
      ]
     },
     "execution_count": 5,
     "metadata": {},
     "output_type": "execute_result"
    }
   ],
   "source": [
    "df.describe(include='all')"
   ]
  },
  {
   "cell_type": "code",
   "execution_count": 6,
   "metadata": {},
   "outputs": [
    {
     "data": {
      "text/plain": [
       "(3897, 11)"
      ]
     },
     "execution_count": 6,
     "metadata": {},
     "output_type": "execute_result"
    }
   ],
   "source": [
    "df.shape"
   ]
  },
  {
   "cell_type": "markdown",
   "metadata": {},
   "source": [
    "### Data Exploration"
   ]
  },
  {
   "cell_type": "code",
   "execution_count": 7,
   "metadata": {},
   "outputs": [
    {
     "data": {
      "text/plain": [
       "Index(['DAY_OF_MONTH', 'DAY_OF_WEEK', 'ORIGIN', 'DEST', 'CRS_DEP_TIME', 'CRS_ARR_TIME', 'ARR_DELAY', 'ARR_DEL15', 'CRS_ELAPSED_TIME', 'ACTUAL_ELAPSED_TIME', 'DISTANCE'], dtype='object')"
      ]
     },
     "execution_count": 7,
     "metadata": {},
     "output_type": "execute_result"
    }
   ],
   "source": [
    "df.columns"
   ]
  },
  {
   "cell_type": "code",
   "execution_count": 8,
   "metadata": {},
   "outputs": [
    {
     "data": {
      "text/plain": [
       "18    153\n",
       "21    150\n",
       "22    148\n",
       "23    148\n",
       "17    145\n",
       "30    142\n",
       "29    139\n",
       "20    134\n",
       "27    131\n",
       "1     130\n",
       "26    129\n",
       "3     129\n",
       "11    128\n",
       "10    128\n",
       "7     127\n",
       "16    126\n",
       "14    125\n",
       "19    124\n",
       "2     121\n",
       "8     120\n",
       "4     120\n",
       "9     119\n",
       "28    118\n",
       "31    118\n",
       "6     116\n",
       "13    115\n",
       "15    113\n",
       "24    112\n",
       "25    105\n",
       "5      92\n",
       "12     92\n",
       "Name: DAY_OF_MONTH, dtype: int64"
      ]
     },
     "execution_count": 8,
     "metadata": {},
     "output_type": "execute_result"
    }
   ],
   "source": [
    "df['DAY_OF_MONTH'].value_counts()"
   ]
  },
  {
   "cell_type": "code",
   "execution_count": 9,
   "metadata": {},
   "outputs": [
    {
     "data": {
      "text/plain": [
       "3    656\n",
       "2    650\n",
       "4    632\n",
       "1    520\n",
       "5    506\n",
       "7    496\n",
       "6    437\n",
       "Name: DAY_OF_WEEK, dtype: int64"
      ]
     },
     "execution_count": 9,
     "metadata": {},
     "output_type": "execute_result"
    }
   ],
   "source": [
    "df['DAY_OF_WEEK'].value_counts()"
   ]
  },
  {
   "cell_type": "code",
   "execution_count": 10,
   "metadata": {},
   "outputs": [
    {
     "data": {
      "text/plain": [
       "ORD    1039\n",
       "SFO     970\n",
       "IAH     946\n",
       "DEN     942\n",
       "Name: ORIGIN, dtype: int64"
      ]
     },
     "execution_count": 10,
     "metadata": {},
     "output_type": "execute_result"
    }
   ],
   "source": [
    "df['ORIGIN'].value_counts()"
   ]
  },
  {
   "cell_type": "code",
   "execution_count": 11,
   "metadata": {},
   "outputs": [
    {
     "data": {
      "text/plain": [
       "ORD    1003\n",
       "SFO     996\n",
       "IAH     951\n",
       "DEN     947\n",
       "Name: DEST, dtype: int64"
      ]
     },
     "execution_count": 11,
     "metadata": {},
     "output_type": "execute_result"
    }
   ],
   "source": [
    "df['DEST'].value_counts()"
   ]
  },
  {
   "cell_type": "code",
   "execution_count": 12,
   "metadata": {},
   "outputs": [
    {
     "data": {
      "text/plain": [
       "600     88\n",
       "1015    64\n",
       "530     60\n",
       "1735    50\n",
       "715     45\n",
       "        ..\n",
       "1256     1\n",
       "827      1\n",
       "831      1\n",
       "835      1\n",
       "12       1\n",
       "Name: CRS_DEP_TIME, Length: 568, dtype: int64"
      ]
     },
     "execution_count": 12,
     "metadata": {},
     "output_type": "execute_result"
    }
   ],
   "source": [
    "df['CRS_DEP_TIME'].value_counts()"
   ]
  },
  {
   "cell_type": "code",
   "execution_count": 13,
   "metadata": {},
   "outputs": [
    {
     "data": {
      "text/plain": [
       "1700    34\n",
       "1159    33\n",
       "1748    33\n",
       "1156    30\n",
       "2035    30\n",
       "        ..\n",
       "1637     1\n",
       "903      1\n",
       "349      1\n",
       "1438     1\n",
       "1639     1\n",
       "Name: CRS_ARR_TIME, Length: 702, dtype: int64"
      ]
     },
     "execution_count": 13,
     "metadata": {},
     "output_type": "execute_result"
    }
   ],
   "source": [
    "df['CRS_ARR_TIME'].value_counts()"
   ]
  },
  {
   "cell_type": "code",
   "execution_count": 14,
   "metadata": {},
   "outputs": [
    {
     "data": {
      "text/plain": [
       "-15      97\n",
       "-13      97\n",
       "-8       96\n",
       "-10      96\n",
       "-12      96\n",
       "         ..\n",
       " 324      1\n",
       " 322      1\n",
       " 304      1\n",
       " 290      1\n",
       " 1069     1\n",
       "Name: ARR_DELAY, Length: 306, dtype: int64"
      ]
     },
     "execution_count": 14,
     "metadata": {},
     "output_type": "execute_result"
    }
   ],
   "source": [
    "df['ARR_DELAY'].value_counts()"
   ]
  },
  {
   "cell_type": "code",
   "execution_count": 15,
   "metadata": {},
   "outputs": [
    {
     "data": {
      "text/plain": [
       "0    2838\n",
       "1    1059\n",
       "Name: ARR_DEL15, dtype: int64"
      ]
     },
     "execution_count": 15,
     "metadata": {},
     "output_type": "execute_result"
    }
   ],
   "source": [
    "df['ARR_DEL15'].value_counts()"
   ]
  },
  {
   "cell_type": "code",
   "execution_count": 16,
   "metadata": {},
   "outputs": [
    {
     "data": {
      "text/plain": [
       "Index(['DAY_OF_MONTH', 'DAY_OF_WEEK', 'ORIGIN', 'DEST', 'CRS_DEP_TIME', 'CRS_ARR_TIME', 'ARR_DELAY', 'ARR_DEL15', 'CRS_ELAPSED_TIME', 'ACTUAL_ELAPSED_TIME', 'DISTANCE'], dtype='object')"
      ]
     },
     "execution_count": 16,
     "metadata": {},
     "output_type": "execute_result"
    }
   ],
   "source": [
    "df.columns"
   ]
  },
  {
   "cell_type": "code",
   "execution_count": 17,
   "metadata": {},
   "outputs": [
    {
     "data": {
      "text/plain": [
       "168    145\n",
       "153    129\n",
       "163    126\n",
       "160    125\n",
       "154    112\n",
       "      ... \n",
       "308      1\n",
       "274      1\n",
       "233      1\n",
       "282      1\n",
       "132      1\n",
       "Name: CRS_ELAPSED_TIME, Length: 120, dtype: int64"
      ]
     },
     "execution_count": 17,
     "metadata": {},
     "output_type": "execute_result"
    }
   ],
   "source": [
    "df['CRS_ELAPSED_TIME'].value_counts()"
   ]
  },
  {
   "cell_type": "code",
   "execution_count": 18,
   "metadata": {},
   "outputs": [
    {
     "data": {
      "text/plain": [
       "142    82\n",
       "141    76\n",
       "146    75\n",
       "148    72\n",
       "134    70\n",
       "       ..\n",
       "332     1\n",
       "328     1\n",
       "322     1\n",
       "320     1\n",
       "115     1\n",
       "Name: ACTUAL_ELAPSED_TIME, Length: 222, dtype: int64"
      ]
     },
     "execution_count": 18,
     "metadata": {},
     "output_type": "execute_result"
    }
   ],
   "source": [
    "df['ACTUAL_ELAPSED_TIME'].value_counts()"
   ]
  },
  {
   "cell_type": "code",
   "execution_count": 19,
   "metadata": {},
   "outputs": [
    {
     "data": {
      "text/plain": [
       "1846    810\n",
       "862     699\n",
       "925     623\n",
       "888     609\n",
       "967     581\n",
       "1635    575\n",
       "Name: DISTANCE, dtype: int64"
      ]
     },
     "execution_count": 19,
     "metadata": {},
     "output_type": "execute_result"
    }
   ],
   "source": [
    "df['DISTANCE'].value_counts()"
   ]
  },
  {
   "cell_type": "markdown",
   "metadata": {},
   "source": [
    "### Data Visualization"
   ]
  },
  {
   "cell_type": "markdown",
   "metadata": {},
   "source": [
    "### Univariate Data Exploration"
   ]
  },
  {
   "cell_type": "code",
   "execution_count": 20,
   "metadata": {},
   "outputs": [
    {
     "data": {
      "image/png": "[encoded data removed]",
      "text/plain": [
       "<Figure size 1440x1080 with 9 Axes>"
      ]
     },
     "metadata": {},
     "output_type": "display_data"
    }
   ],
   "source": [
    "df.hist(bins=50, figsize=(20,15))\n",
    "plt.tight_layout()\n",
    "plt.show()"
   ]
  },
  {
   "cell_type": "code",
   "execution_count": 21,
   "metadata": {},
   "outputs": [
    {
     "data": {
      "image/png": "[encoded data removed]",
      "text/plain": [
       "<Figure size 1440x1440 with 1 Axes>"
      ]
     },
     "metadata": {},
     "output_type": "display_data"
    }
   ],
   "source": [
    "df.boxplot(figsize=(20,20))\n",
    "\n",
    "plt.suptitle('BoxPlot', x=0.5, y=1.02, ha='center', fontsize='large')\n",
    "\n",
    "plt.tight_layout()\n",
    "\n",
    "plt.show()"
   ]
  }
 ],
 "metadata": {
  "kernelspec": {
   "display_name": "Python 3",
   "language": "python",
   "name": "python3"
  },
  "language_info": {
   "codemirror_mode": {
    "name": "ipython",
    "version": 3
   },
   "file_extension": ".py",
   "mimetype": "text/x-python",
   "name": "python",
   "nbconvert_exporter": "python",
   "pygments_lexer": "ipython3",
   "version": "3.8.3"
  }
 },
 "nbformat": 4,
 "nbformat_minor": 4
}
